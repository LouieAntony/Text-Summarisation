{
  "nbformat": 4,
  "nbformat_minor": 0,
  "metadata": {
    "colab": {
      "name": "Text Summarization.ipynb",
      "provenance": []
    },
    "kernelspec": {
      "name": "python3",
      "display_name": "Python 3"
    }
  },
  "cells": [
    {
      "cell_type": "code",
      "metadata": {
        "colab": {
          "base_uri": "https://localhost:8080/"
        },
        "id": "fEX9I5M7Cm6W",
        "outputId": "02d4f31f-db0b-4ba9-fce5-cd634c663216"
      },
      "source": [
        "!pip install spacy"
      ],
      "execution_count": 1,
      "outputs": [
        {
          "output_type": "stream",
          "text": [
            "Requirement already satisfied: spacy in /usr/local/lib/python3.6/dist-packages (2.2.4)\n",
            "Requirement already satisfied: thinc==7.4.0 in /usr/local/lib/python3.6/dist-packages (from spacy) (7.4.0)\n",
            "Requirement already satisfied: cymem<2.1.0,>=2.0.2 in /usr/local/lib/python3.6/dist-packages (from spacy) (2.0.5)\n",
            "Requirement already satisfied: setuptools in /usr/local/lib/python3.6/dist-packages (from spacy) (51.1.1)\n",
            "Requirement already satisfied: numpy>=1.15.0 in /usr/local/lib/python3.6/dist-packages (from spacy) (1.19.5)\n",
            "Requirement already satisfied: wasabi<1.1.0,>=0.4.0 in /usr/local/lib/python3.6/dist-packages (from spacy) (0.8.0)\n",
            "Requirement already satisfied: plac<1.2.0,>=0.9.6 in /usr/local/lib/python3.6/dist-packages (from spacy) (1.1.3)\n",
            "Requirement already satisfied: requests<3.0.0,>=2.13.0 in /usr/local/lib/python3.6/dist-packages (from spacy) (2.23.0)\n",
            "Requirement already satisfied: srsly<1.1.0,>=1.0.2 in /usr/local/lib/python3.6/dist-packages (from spacy) (1.0.5)\n",
            "Requirement already satisfied: preshed<3.1.0,>=3.0.2 in /usr/local/lib/python3.6/dist-packages (from spacy) (3.0.5)\n",
            "Requirement already satisfied: catalogue<1.1.0,>=0.0.7 in /usr/local/lib/python3.6/dist-packages (from spacy) (1.0.0)\n",
            "Requirement already satisfied: blis<0.5.0,>=0.4.0 in /usr/local/lib/python3.6/dist-packages (from spacy) (0.4.1)\n",
            "Requirement already satisfied: tqdm<5.0.0,>=4.38.0 in /usr/local/lib/python3.6/dist-packages (from spacy) (4.41.1)\n",
            "Requirement already satisfied: murmurhash<1.1.0,>=0.28.0 in /usr/local/lib/python3.6/dist-packages (from spacy) (1.0.5)\n",
            "Requirement already satisfied: urllib3!=1.25.0,!=1.25.1,<1.26,>=1.21.1 in /usr/local/lib/python3.6/dist-packages (from requests<3.0.0,>=2.13.0->spacy) (1.24.3)\n",
            "Requirement already satisfied: chardet<4,>=3.0.2 in /usr/local/lib/python3.6/dist-packages (from requests<3.0.0,>=2.13.0->spacy) (3.0.4)\n",
            "Requirement already satisfied: certifi>=2017.4.17 in /usr/local/lib/python3.6/dist-packages (from requests<3.0.0,>=2.13.0->spacy) (2020.12.5)\n",
            "Requirement already satisfied: idna<3,>=2.5 in /usr/local/lib/python3.6/dist-packages (from requests<3.0.0,>=2.13.0->spacy) (2.10)\n",
            "Requirement already satisfied: importlib-metadata>=0.20; python_version < \"3.8\" in /usr/local/lib/python3.6/dist-packages (from catalogue<1.1.0,>=0.0.7->spacy) (3.3.0)\n",
            "Requirement already satisfied: typing-extensions>=3.6.4; python_version < \"3.8\" in /usr/local/lib/python3.6/dist-packages (from importlib-metadata>=0.20; python_version < \"3.8\"->catalogue<1.1.0,>=0.0.7->spacy) (3.7.4.3)\n",
            "Requirement already satisfied: zipp>=0.5 in /usr/local/lib/python3.6/dist-packages (from importlib-metadata>=0.20; python_version < \"3.8\"->catalogue<1.1.0,>=0.0.7->spacy) (3.4.0)\n"
          ],
          "name": "stdout"
        }
      ]
    },
    {
      "cell_type": "code",
      "metadata": {
        "id": "Sqk7uoLOCt8_"
      },
      "source": [
        "import spacy"
      ],
      "execution_count": 2,
      "outputs": []
    },
    {
      "cell_type": "code",
      "metadata": {
        "colab": {
          "base_uri": "https://localhost:8080/"
        },
        "id": "YVLu8UyjDBS_",
        "outputId": "4a068170-57a5-4574-c5ef-79967233f47b"
      },
      "source": [
        "!python -m spacy download en_core_web_sm"
      ],
      "execution_count": 3,
      "outputs": [
        {
          "output_type": "stream",
          "text": [
            "Requirement already satisfied: en_core_web_sm==2.2.5 from https://github.com/explosion/spacy-models/releases/download/en_core_web_sm-2.2.5/en_core_web_sm-2.2.5.tar.gz#egg=en_core_web_sm==2.2.5 in /usr/local/lib/python3.6/dist-packages (2.2.5)\n",
            "Requirement already satisfied: spacy>=2.2.2 in /usr/local/lib/python3.6/dist-packages (from en_core_web_sm==2.2.5) (2.2.4)\n",
            "Requirement already satisfied: wasabi<1.1.0,>=0.4.0 in /usr/local/lib/python3.6/dist-packages (from spacy>=2.2.2->en_core_web_sm==2.2.5) (0.8.0)\n",
            "Requirement already satisfied: tqdm<5.0.0,>=4.38.0 in /usr/local/lib/python3.6/dist-packages (from spacy>=2.2.2->en_core_web_sm==2.2.5) (4.41.1)\n",
            "Requirement already satisfied: thinc==7.4.0 in /usr/local/lib/python3.6/dist-packages (from spacy>=2.2.2->en_core_web_sm==2.2.5) (7.4.0)\n",
            "Requirement already satisfied: blis<0.5.0,>=0.4.0 in /usr/local/lib/python3.6/dist-packages (from spacy>=2.2.2->en_core_web_sm==2.2.5) (0.4.1)\n",
            "Requirement already satisfied: requests<3.0.0,>=2.13.0 in /usr/local/lib/python3.6/dist-packages (from spacy>=2.2.2->en_core_web_sm==2.2.5) (2.23.0)\n",
            "Requirement already satisfied: numpy>=1.15.0 in /usr/local/lib/python3.6/dist-packages (from spacy>=2.2.2->en_core_web_sm==2.2.5) (1.19.5)\n",
            "Requirement already satisfied: srsly<1.1.0,>=1.0.2 in /usr/local/lib/python3.6/dist-packages (from spacy>=2.2.2->en_core_web_sm==2.2.5) (1.0.5)\n",
            "Requirement already satisfied: setuptools in /usr/local/lib/python3.6/dist-packages (from spacy>=2.2.2->en_core_web_sm==2.2.5) (51.1.1)\n",
            "Requirement already satisfied: preshed<3.1.0,>=3.0.2 in /usr/local/lib/python3.6/dist-packages (from spacy>=2.2.2->en_core_web_sm==2.2.5) (3.0.5)\n",
            "Requirement already satisfied: murmurhash<1.1.0,>=0.28.0 in /usr/local/lib/python3.6/dist-packages (from spacy>=2.2.2->en_core_web_sm==2.2.5) (1.0.5)\n",
            "Requirement already satisfied: cymem<2.1.0,>=2.0.2 in /usr/local/lib/python3.6/dist-packages (from spacy>=2.2.2->en_core_web_sm==2.2.5) (2.0.5)\n",
            "Requirement already satisfied: catalogue<1.1.0,>=0.0.7 in /usr/local/lib/python3.6/dist-packages (from spacy>=2.2.2->en_core_web_sm==2.2.5) (1.0.0)\n",
            "Requirement already satisfied: plac<1.2.0,>=0.9.6 in /usr/local/lib/python3.6/dist-packages (from spacy>=2.2.2->en_core_web_sm==2.2.5) (1.1.3)\n",
            "Requirement already satisfied: urllib3!=1.25.0,!=1.25.1,<1.26,>=1.21.1 in /usr/local/lib/python3.6/dist-packages (from requests<3.0.0,>=2.13.0->spacy>=2.2.2->en_core_web_sm==2.2.5) (1.24.3)\n",
            "Requirement already satisfied: chardet<4,>=3.0.2 in /usr/local/lib/python3.6/dist-packages (from requests<3.0.0,>=2.13.0->spacy>=2.2.2->en_core_web_sm==2.2.5) (3.0.4)\n",
            "Requirement already satisfied: idna<3,>=2.5 in /usr/local/lib/python3.6/dist-packages (from requests<3.0.0,>=2.13.0->spacy>=2.2.2->en_core_web_sm==2.2.5) (2.10)\n",
            "Requirement already satisfied: certifi>=2017.4.17 in /usr/local/lib/python3.6/dist-packages (from requests<3.0.0,>=2.13.0->spacy>=2.2.2->en_core_web_sm==2.2.5) (2020.12.5)\n",
            "Requirement already satisfied: importlib-metadata>=0.20; python_version < \"3.8\" in /usr/local/lib/python3.6/dist-packages (from catalogue<1.1.0,>=0.0.7->spacy>=2.2.2->en_core_web_sm==2.2.5) (3.3.0)\n",
            "Requirement already satisfied: typing-extensions>=3.6.4; python_version < \"3.8\" in /usr/local/lib/python3.6/dist-packages (from importlib-metadata>=0.20; python_version < \"3.8\"->catalogue<1.1.0,>=0.0.7->spacy>=2.2.2->en_core_web_sm==2.2.5) (3.7.4.3)\n",
            "Requirement already satisfied: zipp>=0.5 in /usr/local/lib/python3.6/dist-packages (from importlib-metadata>=0.20; python_version < \"3.8\"->catalogue<1.1.0,>=0.0.7->spacy>=2.2.2->en_core_web_sm==2.2.5) (3.4.0)\n",
            "\u001b[38;5;2m✔ Download and installation successful\u001b[0m\n",
            "You can now load the model via spacy.load('en_core_web_sm')\n"
          ],
          "name": "stdout"
        }
      ]
    },
    {
      "cell_type": "code",
      "metadata": {
        "id": "2SgCiJ_oDsvr"
      },
      "source": [
        "text=\"\"\"Once upon a time there was a dear little girl who was loved by every one who looked at her, but most of all by her grandmother, and there was nothing that she would not have given to the child. Once she gave her a little cap of red velvet, which suited her so well that she would never wear anything else. So she was always called Little Red Riding Hood.\r\n",
        "\r\n",
        "One day her mother said to her, \"Come, Little Red Riding Hood, here is a piece of cake and a bottle of wine. Take them to your grandmother, she is ill and weak, and they will do her good. Set out before it gets hot, and when you are going, walk nicely and quietly and do not run off the path, or you may fall and break the bottle, and then your grandmother will get nothing. And when you go into her room, don't forget to say, good-morning, and don't peep into every corner before you do it.\"\r\n",
        "\r\n",
        "I will take great care, said Little Red Riding Hood to her mother, and gave her hand on it.\r\n",
        "\r\n",
        "The grandmother lived out in the wood, half a league from the village, and just as Little Red Riding Hood entered the wood, a wolf met her. Little Red Riding Hood did not know what a wicked creature he was, and was not at all afraid of him.\r\n",
        "\r\n",
        "\"Good-day, Little Red Riding Hood,\" said he.\r\n",
        "\r\n",
        "\"Thank you kindly, wolf.\"\r\n",
        "\r\n",
        "\"Whither away so early, Little Red Riding Hood?\"\r\n",
        "\r\n",
        "\"To my grandmother's.\"\r\n",
        "\r\n",
        "\"What have you got in your apron?\"\r\n",
        "\r\n",
        "\"Cake and wine. Yesterday was baking-day, so poor sick grandmother is to have something good, to make her stronger.\"\r\n",
        "\r\n",
        "\"Where does your grandmother live, Little Red Riding Hood?\"\r\n",
        "\r\n",
        "\"A good quarter of a league farther on in the wood. Her house stands under the three large oak-trees, the nut-trees are just below. You surely must know it,\" replied Little Red Riding Hood.\r\n",
        "\r\n",
        "The wolf thought to himself, \"What a tender young creature. What a nice plump mouthful, she will be better to eat than the old woman. I must act craftily, so as to catch both.\" So he walked for a short time by the side of Little Red Riding Hood, and then he said, \"see Little Red Riding Hood, how pretty the flowers are about here. Why do you not look round. I believe, too, that you do not hear how sweetly the little birds are singing. You walk gravely along as if you were going to school, while everything else out here in the wood is merry.\"\r\n",
        "\r\n",
        "Little Red Riding Hood raised her eyes, and when she saw the sunbeams dancing here and there through the trees, and pretty flowers growing everywhere, she thought, suppose I take grandmother a fresh nosegay. That would please her too. It is so early in the day that I shall still get there in good time. And so she ran from the path into the wood to look for flowers. And whenever she had picked one, she fancied that she saw a still prettier one farther on, and ran after it, and so got deeper and deeper into the wood.\r\n",
        "\r\n",
        "Meanwhile the wolf ran straight to the grandmother's house and knocked at the door.\r\n",
        "\r\n",
        "\"Who is there?\"\r\n",
        "\r\n",
        "\"Little Red Riding Hood,\" replied the wolf. \"She is bringing cake and wine. Open the door.\"\r\n",
        "\r\n",
        "\"Lift the latch,\" called out the grandmother, \"I am too weak, and cannot get up.\"\r\n",
        "\r\n",
        "The wolf lifted the latch, the door sprang open, and without saying a word he went straight to the grandmother's bed, and devoured her. Then he put on her clothes, dressed himself in her cap, laid himself in bed and drew the curtains.\r\n",
        "\r\n",
        "Little Red Riding Hood, however, had been running about picking flowers, and when she had gathered so many that she could carry no more, she remembered her grandmother, and set out on the way to her.\r\n",
        "\r\n",
        "She was surprised to find the cottage-door standing open, and when she went into the room, she had such a strange feeling that she said to herself, oh dear, how uneasy I feel to-day, and at other times I like being with grandmother so much.\r\n",
        " \r\n",
        "She called out, \"Good morning,\" but received no answer. So she went to the bed and drew back the curtains. There lay her grandmother with her cap pulled far over her face, and looking very strange.\r\n",
        "\r\n",
        "\"Oh, grandmother,\" she said, \"what big ears you have.\"\r\n",
        "\r\n",
        "\"The better to hear you with, my child,\" was the reply.\r\n",
        "\r\n",
        "\"But, grandmother, what big eyes you have,\" she said.\r\n",
        "\r\n",
        "\"The better to see you with, my dear.\"\r\n",
        "\r\n",
        "\"But, grandmother, what large hands you have.\"\r\n",
        "\r\n",
        "\"The better to hug you with.\"\r\n",
        "\r\n",
        "\"Oh, but, grandmother, what a terrible big mouth you have.\"\r\n",
        "\r\n",
        "\"The better to eat you with.\"\r\n",
        "\r\n",
        "And scarcely had the wolf said this, than with one bound he was out of bed and swallowed up Little Red Riding Hood.\r\n",
        "\r\n",
        "When the wolf had appeased his appetite, he lay down again in the bed, fell asleep and began to snore very loud. The huntsman was just passing the house, and thought to himself, how the old woman is snoring. I must just see if she wants anything.\r\n",
        "\r\n",
        "So he went into the room, and when he came to the bed, he saw that the wolf was lying in it. \"Do I find you here, you old sinner,\" said he. \"I have long sought you.\"\r\n",
        "\r\n",
        "Then just as he was going to fire at him, it occurred to him that the wolf might have devoured the grandmother, and that she might still be saved, so he did not fire, but took a pair of scissors, and began to cut open the stomach of the sleeping wolf.\r\n",
        "\r\n",
        "When he had made two snips, he saw the Little Red Riding Hood shining, and then he made two snips more, and the little girl sprang out, crying, \"Ah, how frightened I have been. How dark it was inside the wolf.\"\r\n",
        "\r\n",
        "And after that the aged grandmother came out alive also, but scarcely able to breathe. Little Red Riding Hood, however, quickly fetched great stones with which they filled the wolf's belly, and when he awoke, he wanted to run away, but the stones were so heavy that he collapsed at once, and fell dead.\r\n",
        " \r\n",
        "Then all three were delighted. The huntsman drew off the wolf's skin and went home with it. The grandmother ate the cake and drank the wine which Little Red Riding Hood had brought, and revived, but Little Red Riding Hood thought to herself, as long as I live, I will never by myself leave the path, to run into the wood, when my mother has forbidden me to do so.\r\n",
        "\r\n",
        "It is also related that once when Little Red Riding Hood was again taking cakes to the old grandmother, another wolf spoke to her, and tried to entice her from the path. Little Red Riding Hood, however, was on her guard, and went straight forward on her way, and told her grandmother that she had met the wolf, and that he had said good-morning to her, but with such a wicked look in his eyes, that if they had not been on the public road she was certain he would have eaten her up. \"Well,\" said the grandmother, \"we will shut the door, that he may not come in.\"\r\n",
        "\r\n",
        "Soon afterwards the wolf knocked, and cried, \"open the door, grandmother, I am Little Red Riding Hood, and am bringing you some cakes.\"\r\n",
        "\r\n",
        "But they did not speak, or open the door, so the grey-beard stole twice or thrice round the house, and at last jumped on the roof, intending to wait until Little Red Riding Hood went home in the evening, and then to steal after her and devour her in the darkness. But the grandmother saw what was in his thoughts. In front of the house was a great stone trough, so she said to the child, take the pail, Little Red Riding Hood. I made some sausages yesterday, so carry the water in which I boiled them to the trough. Little Red Riding Hood carried until the great trough was quite full. Then the smell of the sausages reached the wolf, and he sniffed and peeped down, and at last stretched out his neck so far that he could no longer keep his footing and began to slip, and slipped down from the roof straight into the great trough, and was drowned. But Little Red Riding Hood went joyously home, and no one ever did anything to harm her again.\r\n",
        "\"\"\""
      ],
      "execution_count": 24,
      "outputs": []
    },
    {
      "cell_type": "code",
      "metadata": {
        "id": "j2E64Gn0dzUo"
      },
      "source": [
        "import spacy\r\n",
        "from spacy.lang.en.stop_words import STOP_WORDS\r\n",
        "from string import punctuation"
      ],
      "execution_count": 25,
      "outputs": []
    },
    {
      "cell_type": "code",
      "metadata": {
        "id": "yEFaSRqQeiHf"
      },
      "source": [
        "stopwords=list(STOP_WORDS)"
      ],
      "execution_count": 26,
      "outputs": []
    },
    {
      "cell_type": "code",
      "metadata": {
        "id": "DZmPanA_enmb"
      },
      "source": [
        "nlp=spacy.load('en_core_web_sm')"
      ],
      "execution_count": 8,
      "outputs": []
    },
    {
      "cell_type": "code",
      "metadata": {
        "id": "haMqmfuqetRM"
      },
      "source": [
        "doc=nlp(text)"
      ],
      "execution_count": 27,
      "outputs": []
    },
    {
      "cell_type": "code",
      "metadata": {
        "colab": {
          "base_uri": "https://localhost:8080/"
        },
        "id": "rUboxzs_jTbf",
        "outputId": "37d851ca-c82c-4ca7-85f4-ddc3f208b51f"
      },
      "source": [
        "tokens=[token.text for token in doc]\r\n",
        "print(tokens)"
      ],
      "execution_count": 28,
      "outputs": [
        {
          "output_type": "stream",
          "text": [
            "['Once', 'upon', 'a', 'time', 'there', 'was', 'a', 'dear', 'little', 'girl', 'who', 'was', 'loved', 'by', 'every', 'one', 'who', 'looked', 'at', 'her', ',', 'but', 'most', 'of', 'all', 'by', 'her', 'grandmother', ',', 'and', 'there', 'was', 'nothing', 'that', 'she', 'would', 'not', 'have', 'given', 'to', 'the', 'child', '.', 'Once', 'she', 'gave', 'her', 'a', 'little', 'cap', 'of', 'red', 'velvet', ',', 'which', 'suited', 'her', 'so', 'well', 'that', 'she', 'would', 'never', 'wear', 'anything', 'else', '.', 'So', 'she', 'was', 'always', 'called', 'Little', 'Red', 'Riding', 'Hood', '.', '\\n\\n', 'One', 'day', 'her', 'mother', 'said', 'to', 'her', ',', '\"', 'Come', ',', 'Little', 'Red', 'Riding', 'Hood', ',', 'here', 'is', 'a', 'piece', 'of', 'cake', 'and', 'a', 'bottle', 'of', 'wine', '.', 'Take', 'them', 'to', 'your', 'grandmother', ',', 'she', 'is', 'ill', 'and', 'weak', ',', 'and', 'they', 'will', 'do', 'her', 'good', '.', 'Set', 'out', 'before', 'it', 'gets', 'hot', ',', 'and', 'when', 'you', 'are', 'going', ',', 'walk', 'nicely', 'and', 'quietly', 'and', 'do', 'not', 'run', 'off', 'the', 'path', ',', 'or', 'you', 'may', 'fall', 'and', 'break', 'the', 'bottle', ',', 'and', 'then', 'your', 'grandmother', 'will', 'get', 'nothing', '.', 'And', 'when', 'you', 'go', 'into', 'her', 'room', ',', 'do', \"n't\", 'forget', 'to', 'say', ',', 'good', '-', 'morning', ',', 'and', 'do', \"n't\", 'peep', 'into', 'every', 'corner', 'before', 'you', 'do', 'it', '.', '\"', '\\n\\n', 'I', 'will', 'take', 'great', 'care', ',', 'said', 'Little', 'Red', 'Riding', 'Hood', 'to', 'her', 'mother', ',', 'and', 'gave', 'her', 'hand', 'on', 'it', '.', '\\n\\n', 'The', 'grandmother', 'lived', 'out', 'in', 'the', 'wood', ',', 'half', 'a', 'league', 'from', 'the', 'village', ',', 'and', 'just', 'as', 'Little', 'Red', 'Riding', 'Hood', 'entered', 'the', 'wood', ',', 'a', 'wolf', 'met', 'her', '.', 'Little', 'Red', 'Riding', 'Hood', 'did', 'not', 'know', 'what', 'a', 'wicked', 'creature', 'he', 'was', ',', 'and', 'was', 'not', 'at', 'all', 'afraid', 'of', 'him', '.', '\\n\\n', '\"', 'Good', '-', 'day', ',', 'Little', 'Red', 'Riding', 'Hood', ',', '\"', 'said', 'he', '.', '\\n\\n', '\"', 'Thank', 'you', 'kindly', ',', 'wolf', '.', '\"', '\\n\\n', '\"', 'Whither', 'away', 'so', 'early', ',', 'Little', 'Red', 'Riding', 'Hood', '?', '\"', '\\n\\n', '\"', 'To', 'my', 'grandmother', \"'s\", '.', '\"', '\\n\\n', '\"', 'What', 'have', 'you', 'got', 'in', 'your', 'apron', '?', '\"', '\\n\\n', '\"', 'Cake', 'and', 'wine', '.', 'Yesterday', 'was', 'baking', '-', 'day', ',', 'so', 'poor', 'sick', 'grandmother', 'is', 'to', 'have', 'something', 'good', ',', 'to', 'make', 'her', 'stronger', '.', '\"', '\\n\\n', '\"', 'Where', 'does', 'your', 'grandmother', 'live', ',', 'Little', 'Red', 'Riding', 'Hood', '?', '\"', '\\n\\n', '\"', 'A', 'good', 'quarter', 'of', 'a', 'league', 'farther', 'on', 'in', 'the', 'wood', '.', 'Her', 'house', 'stands', 'under', 'the', 'three', 'large', 'oak', '-', 'trees', ',', 'the', 'nut', '-', 'trees', 'are', 'just', 'below', '.', 'You', 'surely', 'must', 'know', 'it', ',', '\"', 'replied', 'Little', 'Red', 'Riding', 'Hood', '.', '\\n\\n', 'The', 'wolf', 'thought', 'to', 'himself', ',', '\"', 'What', 'a', 'tender', 'young', 'creature', '.', 'What', 'a', 'nice', 'plump', 'mouthful', ',', 'she', 'will', 'be', 'better', 'to', 'eat', 'than', 'the', 'old', 'woman', '.', 'I', 'must', 'act', 'craftily', ',', 'so', 'as', 'to', 'catch', 'both', '.', '\"', 'So', 'he', 'walked', 'for', 'a', 'short', 'time', 'by', 'the', 'side', 'of', 'Little', 'Red', 'Riding', 'Hood', ',', 'and', 'then', 'he', 'said', ',', '\"', 'see', 'Little', 'Red', 'Riding', 'Hood', ',', 'how', 'pretty', 'the', 'flowers', 'are', 'about', 'here', '.', 'Why', 'do', 'you', 'not', 'look', 'round', '.', 'I', 'believe', ',', 'too', ',', 'that', 'you', 'do', 'not', 'hear', 'how', 'sweetly', 'the', 'little', 'birds', 'are', 'singing', '.', 'You', 'walk', 'gravely', 'along', 'as', 'if', 'you', 'were', 'going', 'to', 'school', ',', 'while', 'everything', 'else', 'out', 'here', 'in', 'the', 'wood', 'is', 'merry', '.', '\"', '\\n\\n', 'Little', 'Red', 'Riding', 'Hood', 'raised', 'her', 'eyes', ',', 'and', 'when', 'she', 'saw', 'the', 'sunbeams', 'dancing', 'here', 'and', 'there', 'through', 'the', 'trees', ',', 'and', 'pretty', 'flowers', 'growing', 'everywhere', ',', 'she', 'thought', ',', 'suppose', 'I', 'take', 'grandmother', 'a', 'fresh', 'nosegay', '.', 'That', 'would', 'please', 'her', 'too', '.', 'It', 'is', 'so', 'early', 'in', 'the', 'day', 'that', 'I', 'shall', 'still', 'get', 'there', 'in', 'good', 'time', '.', 'And', 'so', 'she', 'ran', 'from', 'the', 'path', 'into', 'the', 'wood', 'to', 'look', 'for', 'flowers', '.', 'And', 'whenever', 'she', 'had', 'picked', 'one', ',', 'she', 'fancied', 'that', 'she', 'saw', 'a', 'still', 'prettier', 'one', 'farther', 'on', ',', 'and', 'ran', 'after', 'it', ',', 'and', 'so', 'got', 'deeper', 'and', 'deeper', 'into', 'the', 'wood', '.', '\\n\\n', 'Meanwhile', 'the', 'wolf', 'ran', 'straight', 'to', 'the', 'grandmother', \"'s\", 'house', 'and', 'knocked', 'at', 'the', 'door', '.', '\\n\\n', '\"', 'Who', 'is', 'there', '?', '\"', '\\n\\n', '\"', 'Little', 'Red', 'Riding', 'Hood', ',', '\"', 'replied', 'the', 'wolf', '.', '\"', 'She', 'is', 'bringing', 'cake', 'and', 'wine', '.', 'Open', 'the', 'door', '.', '\"', '\\n\\n', '\"', 'Lift', 'the', 'latch', ',', '\"', 'called', 'out', 'the', 'grandmother', ',', '\"', 'I', 'am', 'too', 'weak', ',', 'and', 'can', 'not', 'get', 'up', '.', '\"', '\\n\\n', 'The', 'wolf', 'lifted', 'the', 'latch', ',', 'the', 'door', 'sprang', 'open', ',', 'and', 'without', 'saying', 'a', 'word', 'he', 'went', 'straight', 'to', 'the', 'grandmother', \"'s\", 'bed', ',', 'and', 'devoured', 'her', '.', 'Then', 'he', 'put', 'on', 'her', 'clothes', ',', 'dressed', 'himself', 'in', 'her', 'cap', ',', 'laid', 'himself', 'in', 'bed', 'and', 'drew', 'the', 'curtains', '.', '\\n\\n', 'Little', 'Red', 'Riding', 'Hood', ',', 'however', ',', 'had', 'been', 'running', 'about', 'picking', 'flowers', ',', 'and', 'when', 'she', 'had', 'gathered', 'so', 'many', 'that', 'she', 'could', 'carry', 'no', 'more', ',', 'she', 'remembered', 'her', 'grandmother', ',', 'and', 'set', 'out', 'on', 'the', 'way', 'to', 'her', '.', '\\n\\n', 'She', 'was', 'surprised', 'to', 'find', 'the', 'cottage', '-', 'door', 'standing', 'open', ',', 'and', 'when', 'she', 'went', 'into', 'the', 'room', ',', 'she', 'had', 'such', 'a', 'strange', 'feeling', 'that', 'she', 'said', 'to', 'herself', ',', 'oh', 'dear', ',', 'how', 'uneasy', 'I', 'feel', 'to', '-', 'day', ',', 'and', 'at', 'other', 'times', 'I', 'like', 'being', 'with', 'grandmother', 'so', 'much', '.', '\\n \\n', 'She', 'called', 'out', ',', '\"', 'Good', 'morning', ',', '\"', 'but', 'received', 'no', 'answer', '.', 'So', 'she', 'went', 'to', 'the', 'bed', 'and', 'drew', 'back', 'the', 'curtains', '.', 'There', 'lay', 'her', 'grandmother', 'with', 'her', 'cap', 'pulled', 'far', 'over', 'her', 'face', ',', 'and', 'looking', 'very', 'strange', '.', '\\n\\n', '\"', 'Oh', ',', 'grandmother', ',', '\"', 'she', 'said', ',', '\"', 'what', 'big', 'ears', 'you', 'have', '.', '\"', '\\n\\n', '\"', 'The', 'better', 'to', 'hear', 'you', 'with', ',', 'my', 'child', ',', '\"', 'was', 'the', 'reply', '.', '\\n\\n', '\"', 'But', ',', 'grandmother', ',', 'what', 'big', 'eyes', 'you', 'have', ',', '\"', 'she', 'said', '.', '\\n\\n', '\"', 'The', 'better', 'to', 'see', 'you', 'with', ',', 'my', 'dear', '.', '\"', '\\n\\n', '\"', 'But', ',', 'grandmother', ',', 'what', 'large', 'hands', 'you', 'have', '.', '\"', '\\n\\n', '\"', 'The', 'better', 'to', 'hug', 'you', 'with', '.', '\"', '\\n\\n', '\"', 'Oh', ',', 'but', ',', 'grandmother', ',', 'what', 'a', 'terrible', 'big', 'mouth', 'you', 'have', '.', '\"', '\\n\\n', '\"', 'The', 'better', 'to', 'eat', 'you', 'with', '.', '\"', '\\n\\n', 'And', 'scarcely', 'had', 'the', 'wolf', 'said', 'this', ',', 'than', 'with', 'one', 'bound', 'he', 'was', 'out', 'of', 'bed', 'and', 'swallowed', 'up', 'Little', 'Red', 'Riding', 'Hood', '.', '\\n\\n', 'When', 'the', 'wolf', 'had', 'appeased', 'his', 'appetite', ',', 'he', 'lay', 'down', 'again', 'in', 'the', 'bed', ',', 'fell', 'asleep', 'and', 'began', 'to', 'snore', 'very', 'loud', '.', 'The', 'huntsman', 'was', 'just', 'passing', 'the', 'house', ',', 'and', 'thought', 'to', 'himself', ',', 'how', 'the', 'old', 'woman', 'is', 'snoring', '.', 'I', 'must', 'just', 'see', 'if', 'she', 'wants', 'anything', '.', '\\n\\n', 'So', 'he', 'went', 'into', 'the', 'room', ',', 'and', 'when', 'he', 'came', 'to', 'the', 'bed', ',', 'he', 'saw', 'that', 'the', 'wolf', 'was', 'lying', 'in', 'it', '.', '\"', 'Do', 'I', 'find', 'you', 'here', ',', 'you', 'old', 'sinner', ',', '\"', 'said', 'he', '.', '\"', 'I', 'have', 'long', 'sought', 'you', '.', '\"', '\\n\\n', 'Then', 'just', 'as', 'he', 'was', 'going', 'to', 'fire', 'at', 'him', ',', 'it', 'occurred', 'to', 'him', 'that', 'the', 'wolf', 'might', 'have', 'devoured', 'the', 'grandmother', ',', 'and', 'that', 'she', 'might', 'still', 'be', 'saved', ',', 'so', 'he', 'did', 'not', 'fire', ',', 'but', 'took', 'a', 'pair', 'of', 'scissors', ',', 'and', 'began', 'to', 'cut', 'open', 'the', 'stomach', 'of', 'the', 'sleeping', 'wolf', '.', '\\n\\n', 'When', 'he', 'had', 'made', 'two', 'snips', ',', 'he', 'saw', 'the', 'Little', 'Red', 'Riding', 'Hood', 'shining', ',', 'and', 'then', 'he', 'made', 'two', 'snips', 'more', ',', 'and', 'the', 'little', 'girl', 'sprang', 'out', ',', 'crying', ',', '\"', 'Ah', ',', 'how', 'frightened', 'I', 'have', 'been', '.', 'How', 'dark', 'it', 'was', 'inside', 'the', 'wolf', '.', '\"', '\\n\\n', 'And', 'after', 'that', 'the', 'aged', 'grandmother', 'came', 'out', 'alive', 'also', ',', 'but', 'scarcely', 'able', 'to', 'breathe', '.', 'Little', 'Red', 'Riding', 'Hood', ',', 'however', ',', 'quickly', 'fetched', 'great', 'stones', 'with', 'which', 'they', 'filled', 'the', 'wolf', \"'s\", 'belly', ',', 'and', 'when', 'he', 'awoke', ',', 'he', 'wanted', 'to', 'run', 'away', ',', 'but', 'the', 'stones', 'were', 'so', 'heavy', 'that', 'he', 'collapsed', 'at', 'once', ',', 'and', 'fell', 'dead', '.', '\\n \\n', 'Then', 'all', 'three', 'were', 'delighted', '.', 'The', 'huntsman', 'drew', 'off', 'the', 'wolf', \"'s\", 'skin', 'and', 'went', 'home', 'with', 'it', '.', 'The', 'grandmother', 'ate', 'the', 'cake', 'and', 'drank', 'the', 'wine', 'which', 'Little', 'Red', 'Riding', 'Hood', 'had', 'brought', ',', 'and', 'revived', ',', 'but', 'Little', 'Red', 'Riding', 'Hood', 'thought', 'to', 'herself', ',', 'as', 'long', 'as', 'I', 'live', ',', 'I', 'will', 'never', 'by', 'myself', 'leave', 'the', 'path', ',', 'to', 'run', 'into', 'the', 'wood', ',', 'when', 'my', 'mother', 'has', 'forbidden', 'me', 'to', 'do', 'so', '.', '\\n\\n', 'It', 'is', 'also', 'related', 'that', 'once', 'when', 'Little', 'Red', 'Riding', 'Hood', 'was', 'again', 'taking', 'cakes', 'to', 'the', 'old', 'grandmother', ',', 'another', 'wolf', 'spoke', 'to', 'her', ',', 'and', 'tried', 'to', 'entice', 'her', 'from', 'the', 'path', '.', 'Little', 'Red', 'Riding', 'Hood', ',', 'however', ',', 'was', 'on', 'her', 'guard', ',', 'and', 'went', 'straight', 'forward', 'on', 'her', 'way', ',', 'and', 'told', 'her', 'grandmother', 'that', 'she', 'had', 'met', 'the', 'wolf', ',', 'and', 'that', 'he', 'had', 'said', 'good', '-', 'morning', 'to', 'her', ',', 'but', 'with', 'such', 'a', 'wicked', 'look', 'in', 'his', 'eyes', ',', 'that', 'if', 'they', 'had', 'not', 'been', 'on', 'the', 'public', 'road', 'she', 'was', 'certain', 'he', 'would', 'have', 'eaten', 'her', 'up', '.', '\"', 'Well', ',', '\"', 'said', 'the', 'grandmother', ',', '\"', 'we', 'will', 'shut', 'the', 'door', ',', 'that', 'he', 'may', 'not', 'come', 'in', '.', '\"', '\\n\\n', 'Soon', 'afterwards', 'the', 'wolf', 'knocked', ',', 'and', 'cried', ',', '\"', 'open', 'the', 'door', ',', 'grandmother', ',', 'I', 'am', 'Little', 'Red', 'Riding', 'Hood', ',', 'and', 'am', 'bringing', 'you', 'some', 'cakes', '.', '\"', '\\n\\n', 'But', 'they', 'did', 'not', 'speak', ',', 'or', 'open', 'the', 'door', ',', 'so', 'the', 'grey', '-', 'beard', 'stole', 'twice', 'or', 'thrice', 'round', 'the', 'house', ',', 'and', 'at', 'last', 'jumped', 'on', 'the', 'roof', ',', 'intending', 'to', 'wait', 'until', 'Little', 'Red', 'Riding', 'Hood', 'went', 'home', 'in', 'the', 'evening', ',', 'and', 'then', 'to', 'steal', 'after', 'her', 'and', 'devour', 'her', 'in', 'the', 'darkness', '.', 'But', 'the', 'grandmother', 'saw', 'what', 'was', 'in', 'his', 'thoughts', '.', 'In', 'front', 'of', 'the', 'house', 'was', 'a', 'great', 'stone', 'trough', ',', 'so', 'she', 'said', 'to', 'the', 'child', ',', 'take', 'the', 'pail', ',', 'Little', 'Red', 'Riding', 'Hood', '.', 'I', 'made', 'some', 'sausages', 'yesterday', ',', 'so', 'carry', 'the', 'water', 'in', 'which', 'I', 'boiled', 'them', 'to', 'the', 'trough', '.', 'Little', 'Red', 'Riding', 'Hood', 'carried', 'until', 'the', 'great', 'trough', 'was', 'quite', 'full', '.', 'Then', 'the', 'smell', 'of', 'the', 'sausages', 'reached', 'the', 'wolf', ',', 'and', 'he', 'sniffed', 'and', 'peeped', 'down', ',', 'and', 'at', 'last', 'stretched', 'out', 'his', 'neck', 'so', 'far', 'that', 'he', 'could', 'no', 'longer', 'keep', 'his', 'footing', 'and', 'began', 'to', 'slip', ',', 'and', 'slipped', 'down', 'from', 'the', 'roof', 'straight', 'into', 'the', 'great', 'trough', ',', 'and', 'was', 'drowned', '.', 'But', 'Little', 'Red', 'Riding', 'Hood', 'went', 'joyously', 'home', ',', 'and', 'no', 'one', 'ever', 'did', 'anything', 'to', 'harm', 'her', 'again', '.', '\\n']\n"
          ],
          "name": "stdout"
        }
      ]
    },
    {
      "cell_type": "code",
      "metadata": {
        "id": "SREf8-wljUn4"
      },
      "source": [
        "punctuation=punctuation+'\\n'"
      ],
      "execution_count": 29,
      "outputs": []
    },
    {
      "cell_type": "code",
      "metadata": {
        "id": "gI5uCv-QkFac"
      },
      "source": [
        "word_frequencies={}\r\n",
        "for word in doc :\r\n",
        "  if word.text.lower() not in stopwords:\r\n",
        "    if word.text.lower() not in punctuation:\r\n",
        "      if word.text not in word_frequencies.keys():\r\n",
        "        word_frequencies[word.text] = 1\r\n",
        "      else:\r\n",
        "        word_frequencies[word.text]+=1"
      ],
      "execution_count": 30,
      "outputs": []
    },
    {
      "cell_type": "code",
      "metadata": {
        "colab": {
          "base_uri": "https://localhost:8080/"
        },
        "id": "4b65oTOkk3ig",
        "outputId": "41bde663-6295-4e60-8a0b-5ceee69e52f6"
      },
      "source": [
        "word_frequencies"
      ],
      "execution_count": 31,
      "outputs": [
        {
          "output_type": "execute_result",
          "data": {
            "text/plain": [
              "{'\\n\\n': 37,\n",
              " '\\n \\n': 2,\n",
              " 'Ah': 1,\n",
              " 'Cake': 1,\n",
              " 'Come': 1,\n",
              " 'Good': 2,\n",
              " 'Hood': 26,\n",
              " 'Lift': 1,\n",
              " 'Little': 26,\n",
              " 'Oh': 2,\n",
              " 'Open': 1,\n",
              " 'Red': 26,\n",
              " 'Riding': 26,\n",
              " 'Set': 1,\n",
              " 'Soon': 1,\n",
              " 'Thank': 1,\n",
              " 'Yesterday': 1,\n",
              " 'able': 1,\n",
              " 'act': 1,\n",
              " 'afraid': 1,\n",
              " 'aged': 1,\n",
              " 'alive': 1,\n",
              " 'answer': 1,\n",
              " 'appeased': 1,\n",
              " 'appetite': 1,\n",
              " 'apron': 1,\n",
              " 'asleep': 1,\n",
              " 'ate': 1,\n",
              " 'away': 2,\n",
              " 'awoke': 1,\n",
              " 'baking': 1,\n",
              " 'beard': 1,\n",
              " 'bed': 6,\n",
              " 'began': 3,\n",
              " 'believe': 1,\n",
              " 'belly': 1,\n",
              " 'better': 5,\n",
              " 'big': 3,\n",
              " 'birds': 1,\n",
              " 'boiled': 1,\n",
              " 'bottle': 2,\n",
              " 'bound': 1,\n",
              " 'break': 1,\n",
              " 'breathe': 1,\n",
              " 'bringing': 2,\n",
              " 'brought': 1,\n",
              " 'cake': 3,\n",
              " 'cakes': 2,\n",
              " 'called': 3,\n",
              " 'came': 2,\n",
              " 'cap': 3,\n",
              " 'care': 1,\n",
              " 'carried': 1,\n",
              " 'carry': 2,\n",
              " 'catch': 1,\n",
              " 'certain': 1,\n",
              " 'child': 3,\n",
              " 'clothes': 1,\n",
              " 'collapsed': 1,\n",
              " 'come': 1,\n",
              " 'corner': 1,\n",
              " 'cottage': 1,\n",
              " 'craftily': 1,\n",
              " 'creature': 2,\n",
              " 'cried': 1,\n",
              " 'crying': 1,\n",
              " 'curtains': 2,\n",
              " 'cut': 1,\n",
              " 'dancing': 1,\n",
              " 'dark': 1,\n",
              " 'darkness': 1,\n",
              " 'day': 5,\n",
              " 'dead': 1,\n",
              " 'dear': 3,\n",
              " 'deeper': 2,\n",
              " 'delighted': 1,\n",
              " 'devour': 1,\n",
              " 'devoured': 2,\n",
              " 'door': 7,\n",
              " 'drank': 1,\n",
              " 'dressed': 1,\n",
              " 'drew': 3,\n",
              " 'drowned': 1,\n",
              " 'early': 2,\n",
              " 'ears': 1,\n",
              " 'eat': 2,\n",
              " 'eaten': 1,\n",
              " 'entered': 1,\n",
              " 'entice': 1,\n",
              " 'evening': 1,\n",
              " 'eyes': 3,\n",
              " 'face': 1,\n",
              " 'fall': 1,\n",
              " 'fancied': 1,\n",
              " 'far': 2,\n",
              " 'farther': 2,\n",
              " 'feel': 1,\n",
              " 'feeling': 1,\n",
              " 'fell': 2,\n",
              " 'fetched': 1,\n",
              " 'filled': 1,\n",
              " 'find': 2,\n",
              " 'fire': 2,\n",
              " 'flowers': 4,\n",
              " 'footing': 1,\n",
              " 'forbidden': 1,\n",
              " 'forget': 1,\n",
              " 'forward': 1,\n",
              " 'fresh': 1,\n",
              " 'frightened': 1,\n",
              " 'gathered': 1,\n",
              " 'gave': 2,\n",
              " 'gets': 1,\n",
              " 'girl': 2,\n",
              " 'given': 1,\n",
              " 'going': 3,\n",
              " 'good': 6,\n",
              " 'got': 2,\n",
              " 'grandmother': 26,\n",
              " 'gravely': 1,\n",
              " 'great': 5,\n",
              " 'grey': 1,\n",
              " 'growing': 1,\n",
              " 'guard': 1,\n",
              " 'half': 1,\n",
              " 'hand': 1,\n",
              " 'hands': 1,\n",
              " 'harm': 1,\n",
              " 'hear': 2,\n",
              " 'heavy': 1,\n",
              " 'home': 3,\n",
              " 'hot': 1,\n",
              " 'house': 5,\n",
              " 'hug': 1,\n",
              " 'huntsman': 2,\n",
              " 'ill': 1,\n",
              " 'inside': 1,\n",
              " 'intending': 1,\n",
              " 'joyously': 1,\n",
              " 'jumped': 1,\n",
              " 'kindly': 1,\n",
              " 'knocked': 2,\n",
              " 'know': 2,\n",
              " 'laid': 1,\n",
              " 'large': 2,\n",
              " 'latch': 2,\n",
              " 'lay': 2,\n",
              " 'league': 2,\n",
              " 'leave': 1,\n",
              " 'lifted': 1,\n",
              " 'like': 1,\n",
              " 'little': 4,\n",
              " 'live': 2,\n",
              " 'lived': 1,\n",
              " 'long': 2,\n",
              " 'longer': 1,\n",
              " 'look': 3,\n",
              " 'looked': 1,\n",
              " 'looking': 1,\n",
              " 'loud': 1,\n",
              " 'loved': 1,\n",
              " 'lying': 1,\n",
              " 'merry': 1,\n",
              " 'met': 2,\n",
              " 'morning': 3,\n",
              " 'mother': 3,\n",
              " 'mouth': 1,\n",
              " 'mouthful': 1,\n",
              " 'neck': 1,\n",
              " 'nice': 1,\n",
              " 'nicely': 1,\n",
              " 'nosegay': 1,\n",
              " 'nut': 1,\n",
              " 'oak': 1,\n",
              " 'occurred': 1,\n",
              " 'oh': 1,\n",
              " 'old': 4,\n",
              " 'open': 5,\n",
              " 'pail': 1,\n",
              " 'pair': 1,\n",
              " 'passing': 1,\n",
              " 'path': 4,\n",
              " 'peep': 1,\n",
              " 'peeped': 1,\n",
              " 'picked': 1,\n",
              " 'picking': 1,\n",
              " 'piece': 1,\n",
              " 'plump': 1,\n",
              " 'poor': 1,\n",
              " 'prettier': 1,\n",
              " 'pretty': 2,\n",
              " 'public': 1,\n",
              " 'pulled': 1,\n",
              " 'quarter': 1,\n",
              " 'quickly': 1,\n",
              " 'quietly': 1,\n",
              " 'raised': 1,\n",
              " 'ran': 3,\n",
              " 'reached': 1,\n",
              " 'received': 1,\n",
              " 'red': 1,\n",
              " 'related': 1,\n",
              " 'remembered': 1,\n",
              " 'replied': 2,\n",
              " 'reply': 1,\n",
              " 'revived': 1,\n",
              " 'road': 1,\n",
              " 'roof': 2,\n",
              " 'room': 3,\n",
              " 'round': 2,\n",
              " 'run': 3,\n",
              " 'running': 1,\n",
              " 'said': 12,\n",
              " 'sausages': 2,\n",
              " 'saved': 1,\n",
              " 'saw': 5,\n",
              " 'saying': 1,\n",
              " 'scarcely': 2,\n",
              " 'school': 1,\n",
              " 'scissors': 1,\n",
              " 'set': 1,\n",
              " 'shall': 1,\n",
              " 'shining': 1,\n",
              " 'short': 1,\n",
              " 'shut': 1,\n",
              " 'sick': 1,\n",
              " 'singing': 1,\n",
              " 'sinner': 1,\n",
              " 'skin': 1,\n",
              " 'sleeping': 1,\n",
              " 'slip': 1,\n",
              " 'slipped': 1,\n",
              " 'smell': 1,\n",
              " 'sniffed': 1,\n",
              " 'snips': 2,\n",
              " 'snore': 1,\n",
              " 'snoring': 1,\n",
              " 'sought': 1,\n",
              " 'speak': 1,\n",
              " 'spoke': 1,\n",
              " 'sprang': 2,\n",
              " 'standing': 1,\n",
              " 'stands': 1,\n",
              " 'steal': 1,\n",
              " 'stole': 1,\n",
              " 'stomach': 1,\n",
              " 'stone': 1,\n",
              " 'stones': 2,\n",
              " 'straight': 4,\n",
              " 'strange': 2,\n",
              " 'stretched': 1,\n",
              " 'stronger': 1,\n",
              " 'suited': 1,\n",
              " 'sunbeams': 1,\n",
              " 'suppose': 1,\n",
              " 'surely': 1,\n",
              " 'surprised': 1,\n",
              " 'swallowed': 1,\n",
              " 'sweetly': 1,\n",
              " 'taking': 1,\n",
              " 'tender': 1,\n",
              " 'terrible': 1,\n",
              " 'thought': 4,\n",
              " 'thoughts': 1,\n",
              " 'thrice': 1,\n",
              " 'time': 3,\n",
              " 'times': 1,\n",
              " 'told': 1,\n",
              " 'took': 1,\n",
              " 'trees': 3,\n",
              " 'tried': 1,\n",
              " 'trough': 4,\n",
              " 'twice': 1,\n",
              " 'uneasy': 1,\n",
              " 'velvet': 1,\n",
              " 'village': 1,\n",
              " 'wait': 1,\n",
              " 'walk': 2,\n",
              " 'walked': 1,\n",
              " 'wanted': 1,\n",
              " 'wants': 1,\n",
              " 'water': 1,\n",
              " 'way': 2,\n",
              " 'weak': 2,\n",
              " 'wear': 1,\n",
              " 'went': 8,\n",
              " 'wicked': 2,\n",
              " 'wine': 4,\n",
              " 'wolf': 18,\n",
              " 'woman': 2,\n",
              " 'wood': 7,\n",
              " 'word': 1,\n",
              " 'yesterday': 1,\n",
              " 'young': 1}"
            ]
          },
          "metadata": {
            "tags": []
          },
          "execution_count": 31
        }
      ]
    },
    {
      "cell_type": "code",
      "metadata": {
        "colab": {
          "base_uri": "https://localhost:8080/"
        },
        "id": "R7c1NnELlMe8",
        "outputId": "e33a6b72-b8de-43de-9943-2525880682c7"
      },
      "source": [
        "max_frequency=max(word_frequencies.values())\r\n",
        "max_frequency"
      ],
      "execution_count": 32,
      "outputs": [
        {
          "output_type": "execute_result",
          "data": {
            "text/plain": [
              "37"
            ]
          },
          "metadata": {
            "tags": []
          },
          "execution_count": 32
        }
      ]
    },
    {
      "cell_type": "code",
      "metadata": {
        "id": "6QBnC5FFnloS"
      },
      "source": [
        "for word in word_frequencies.keys():\r\n",
        "  word_frequencies[word]=word_frequencies[word]/max_frequency"
      ],
      "execution_count": 33,
      "outputs": []
    },
    {
      "cell_type": "code",
      "metadata": {
        "colab": {
          "base_uri": "https://localhost:8080/"
        },
        "id": "5XKKmIxVn-Ps",
        "outputId": "ae7462b2-2c3a-43d2-8e1b-e498c178fcdf"
      },
      "source": [
        "word_frequencies"
      ],
      "execution_count": 34,
      "outputs": [
        {
          "output_type": "execute_result",
          "data": {
            "text/plain": [
              "{'\\n\\n': 1.0,\n",
              " '\\n \\n': 0.05405405405405406,\n",
              " 'Ah': 0.02702702702702703,\n",
              " 'Cake': 0.02702702702702703,\n",
              " 'Come': 0.02702702702702703,\n",
              " 'Good': 0.05405405405405406,\n",
              " 'Hood': 0.7027027027027027,\n",
              " 'Lift': 0.02702702702702703,\n",
              " 'Little': 0.7027027027027027,\n",
              " 'Oh': 0.05405405405405406,\n",
              " 'Open': 0.02702702702702703,\n",
              " 'Red': 0.7027027027027027,\n",
              " 'Riding': 0.7027027027027027,\n",
              " 'Set': 0.02702702702702703,\n",
              " 'Soon': 0.02702702702702703,\n",
              " 'Thank': 0.02702702702702703,\n",
              " 'Yesterday': 0.02702702702702703,\n",
              " 'able': 0.02702702702702703,\n",
              " 'act': 0.02702702702702703,\n",
              " 'afraid': 0.02702702702702703,\n",
              " 'aged': 0.02702702702702703,\n",
              " 'alive': 0.02702702702702703,\n",
              " 'answer': 0.02702702702702703,\n",
              " 'appeased': 0.02702702702702703,\n",
              " 'appetite': 0.02702702702702703,\n",
              " 'apron': 0.02702702702702703,\n",
              " 'asleep': 0.02702702702702703,\n",
              " 'ate': 0.02702702702702703,\n",
              " 'away': 0.05405405405405406,\n",
              " 'awoke': 0.02702702702702703,\n",
              " 'baking': 0.02702702702702703,\n",
              " 'beard': 0.02702702702702703,\n",
              " 'bed': 0.16216216216216217,\n",
              " 'began': 0.08108108108108109,\n",
              " 'believe': 0.02702702702702703,\n",
              " 'belly': 0.02702702702702703,\n",
              " 'better': 0.13513513513513514,\n",
              " 'big': 0.08108108108108109,\n",
              " 'birds': 0.02702702702702703,\n",
              " 'boiled': 0.02702702702702703,\n",
              " 'bottle': 0.05405405405405406,\n",
              " 'bound': 0.02702702702702703,\n",
              " 'break': 0.02702702702702703,\n",
              " 'breathe': 0.02702702702702703,\n",
              " 'bringing': 0.05405405405405406,\n",
              " 'brought': 0.02702702702702703,\n",
              " 'cake': 0.08108108108108109,\n",
              " 'cakes': 0.05405405405405406,\n",
              " 'called': 0.08108108108108109,\n",
              " 'came': 0.05405405405405406,\n",
              " 'cap': 0.08108108108108109,\n",
              " 'care': 0.02702702702702703,\n",
              " 'carried': 0.02702702702702703,\n",
              " 'carry': 0.05405405405405406,\n",
              " 'catch': 0.02702702702702703,\n",
              " 'certain': 0.02702702702702703,\n",
              " 'child': 0.08108108108108109,\n",
              " 'clothes': 0.02702702702702703,\n",
              " 'collapsed': 0.02702702702702703,\n",
              " 'come': 0.02702702702702703,\n",
              " 'corner': 0.02702702702702703,\n",
              " 'cottage': 0.02702702702702703,\n",
              " 'craftily': 0.02702702702702703,\n",
              " 'creature': 0.05405405405405406,\n",
              " 'cried': 0.02702702702702703,\n",
              " 'crying': 0.02702702702702703,\n",
              " 'curtains': 0.05405405405405406,\n",
              " 'cut': 0.02702702702702703,\n",
              " 'dancing': 0.02702702702702703,\n",
              " 'dark': 0.02702702702702703,\n",
              " 'darkness': 0.02702702702702703,\n",
              " 'day': 0.13513513513513514,\n",
              " 'dead': 0.02702702702702703,\n",
              " 'dear': 0.08108108108108109,\n",
              " 'deeper': 0.05405405405405406,\n",
              " 'delighted': 0.02702702702702703,\n",
              " 'devour': 0.02702702702702703,\n",
              " 'devoured': 0.05405405405405406,\n",
              " 'door': 0.1891891891891892,\n",
              " 'drank': 0.02702702702702703,\n",
              " 'dressed': 0.02702702702702703,\n",
              " 'drew': 0.08108108108108109,\n",
              " 'drowned': 0.02702702702702703,\n",
              " 'early': 0.05405405405405406,\n",
              " 'ears': 0.02702702702702703,\n",
              " 'eat': 0.05405405405405406,\n",
              " 'eaten': 0.02702702702702703,\n",
              " 'entered': 0.02702702702702703,\n",
              " 'entice': 0.02702702702702703,\n",
              " 'evening': 0.02702702702702703,\n",
              " 'eyes': 0.08108108108108109,\n",
              " 'face': 0.02702702702702703,\n",
              " 'fall': 0.02702702702702703,\n",
              " 'fancied': 0.02702702702702703,\n",
              " 'far': 0.05405405405405406,\n",
              " 'farther': 0.05405405405405406,\n",
              " 'feel': 0.02702702702702703,\n",
              " 'feeling': 0.02702702702702703,\n",
              " 'fell': 0.05405405405405406,\n",
              " 'fetched': 0.02702702702702703,\n",
              " 'filled': 0.02702702702702703,\n",
              " 'find': 0.05405405405405406,\n",
              " 'fire': 0.05405405405405406,\n",
              " 'flowers': 0.10810810810810811,\n",
              " 'footing': 0.02702702702702703,\n",
              " 'forbidden': 0.02702702702702703,\n",
              " 'forget': 0.02702702702702703,\n",
              " 'forward': 0.02702702702702703,\n",
              " 'fresh': 0.02702702702702703,\n",
              " 'frightened': 0.02702702702702703,\n",
              " 'gathered': 0.02702702702702703,\n",
              " 'gave': 0.05405405405405406,\n",
              " 'gets': 0.02702702702702703,\n",
              " 'girl': 0.05405405405405406,\n",
              " 'given': 0.02702702702702703,\n",
              " 'going': 0.08108108108108109,\n",
              " 'good': 0.16216216216216217,\n",
              " 'got': 0.05405405405405406,\n",
              " 'grandmother': 0.7027027027027027,\n",
              " 'gravely': 0.02702702702702703,\n",
              " 'great': 0.13513513513513514,\n",
              " 'grey': 0.02702702702702703,\n",
              " 'growing': 0.02702702702702703,\n",
              " 'guard': 0.02702702702702703,\n",
              " 'half': 0.02702702702702703,\n",
              " 'hand': 0.02702702702702703,\n",
              " 'hands': 0.02702702702702703,\n",
              " 'harm': 0.02702702702702703,\n",
              " 'hear': 0.05405405405405406,\n",
              " 'heavy': 0.02702702702702703,\n",
              " 'home': 0.08108108108108109,\n",
              " 'hot': 0.02702702702702703,\n",
              " 'house': 0.13513513513513514,\n",
              " 'hug': 0.02702702702702703,\n",
              " 'huntsman': 0.05405405405405406,\n",
              " 'ill': 0.02702702702702703,\n",
              " 'inside': 0.02702702702702703,\n",
              " 'intending': 0.02702702702702703,\n",
              " 'joyously': 0.02702702702702703,\n",
              " 'jumped': 0.02702702702702703,\n",
              " 'kindly': 0.02702702702702703,\n",
              " 'knocked': 0.05405405405405406,\n",
              " 'know': 0.05405405405405406,\n",
              " 'laid': 0.02702702702702703,\n",
              " 'large': 0.05405405405405406,\n",
              " 'latch': 0.05405405405405406,\n",
              " 'lay': 0.05405405405405406,\n",
              " 'league': 0.05405405405405406,\n",
              " 'leave': 0.02702702702702703,\n",
              " 'lifted': 0.02702702702702703,\n",
              " 'like': 0.02702702702702703,\n",
              " 'little': 0.10810810810810811,\n",
              " 'live': 0.05405405405405406,\n",
              " 'lived': 0.02702702702702703,\n",
              " 'long': 0.05405405405405406,\n",
              " 'longer': 0.02702702702702703,\n",
              " 'look': 0.08108108108108109,\n",
              " 'looked': 0.02702702702702703,\n",
              " 'looking': 0.02702702702702703,\n",
              " 'loud': 0.02702702702702703,\n",
              " 'loved': 0.02702702702702703,\n",
              " 'lying': 0.02702702702702703,\n",
              " 'merry': 0.02702702702702703,\n",
              " 'met': 0.05405405405405406,\n",
              " 'morning': 0.08108108108108109,\n",
              " 'mother': 0.08108108108108109,\n",
              " 'mouth': 0.02702702702702703,\n",
              " 'mouthful': 0.02702702702702703,\n",
              " 'neck': 0.02702702702702703,\n",
              " 'nice': 0.02702702702702703,\n",
              " 'nicely': 0.02702702702702703,\n",
              " 'nosegay': 0.02702702702702703,\n",
              " 'nut': 0.02702702702702703,\n",
              " 'oak': 0.02702702702702703,\n",
              " 'occurred': 0.02702702702702703,\n",
              " 'oh': 0.02702702702702703,\n",
              " 'old': 0.10810810810810811,\n",
              " 'open': 0.13513513513513514,\n",
              " 'pail': 0.02702702702702703,\n",
              " 'pair': 0.02702702702702703,\n",
              " 'passing': 0.02702702702702703,\n",
              " 'path': 0.10810810810810811,\n",
              " 'peep': 0.02702702702702703,\n",
              " 'peeped': 0.02702702702702703,\n",
              " 'picked': 0.02702702702702703,\n",
              " 'picking': 0.02702702702702703,\n",
              " 'piece': 0.02702702702702703,\n",
              " 'plump': 0.02702702702702703,\n",
              " 'poor': 0.02702702702702703,\n",
              " 'prettier': 0.02702702702702703,\n",
              " 'pretty': 0.05405405405405406,\n",
              " 'public': 0.02702702702702703,\n",
              " 'pulled': 0.02702702702702703,\n",
              " 'quarter': 0.02702702702702703,\n",
              " 'quickly': 0.02702702702702703,\n",
              " 'quietly': 0.02702702702702703,\n",
              " 'raised': 0.02702702702702703,\n",
              " 'ran': 0.08108108108108109,\n",
              " 'reached': 0.02702702702702703,\n",
              " 'received': 0.02702702702702703,\n",
              " 'red': 0.02702702702702703,\n",
              " 'related': 0.02702702702702703,\n",
              " 'remembered': 0.02702702702702703,\n",
              " 'replied': 0.05405405405405406,\n",
              " 'reply': 0.02702702702702703,\n",
              " 'revived': 0.02702702702702703,\n",
              " 'road': 0.02702702702702703,\n",
              " 'roof': 0.05405405405405406,\n",
              " 'room': 0.08108108108108109,\n",
              " 'round': 0.05405405405405406,\n",
              " 'run': 0.08108108108108109,\n",
              " 'running': 0.02702702702702703,\n",
              " 'said': 0.32432432432432434,\n",
              " 'sausages': 0.05405405405405406,\n",
              " 'saved': 0.02702702702702703,\n",
              " 'saw': 0.13513513513513514,\n",
              " 'saying': 0.02702702702702703,\n",
              " 'scarcely': 0.05405405405405406,\n",
              " 'school': 0.02702702702702703,\n",
              " 'scissors': 0.02702702702702703,\n",
              " 'set': 0.02702702702702703,\n",
              " 'shall': 0.02702702702702703,\n",
              " 'shining': 0.02702702702702703,\n",
              " 'short': 0.02702702702702703,\n",
              " 'shut': 0.02702702702702703,\n",
              " 'sick': 0.02702702702702703,\n",
              " 'singing': 0.02702702702702703,\n",
              " 'sinner': 0.02702702702702703,\n",
              " 'skin': 0.02702702702702703,\n",
              " 'sleeping': 0.02702702702702703,\n",
              " 'slip': 0.02702702702702703,\n",
              " 'slipped': 0.02702702702702703,\n",
              " 'smell': 0.02702702702702703,\n",
              " 'sniffed': 0.02702702702702703,\n",
              " 'snips': 0.05405405405405406,\n",
              " 'snore': 0.02702702702702703,\n",
              " 'snoring': 0.02702702702702703,\n",
              " 'sought': 0.02702702702702703,\n",
              " 'speak': 0.02702702702702703,\n",
              " 'spoke': 0.02702702702702703,\n",
              " 'sprang': 0.05405405405405406,\n",
              " 'standing': 0.02702702702702703,\n",
              " 'stands': 0.02702702702702703,\n",
              " 'steal': 0.02702702702702703,\n",
              " 'stole': 0.02702702702702703,\n",
              " 'stomach': 0.02702702702702703,\n",
              " 'stone': 0.02702702702702703,\n",
              " 'stones': 0.05405405405405406,\n",
              " 'straight': 0.10810810810810811,\n",
              " 'strange': 0.05405405405405406,\n",
              " 'stretched': 0.02702702702702703,\n",
              " 'stronger': 0.02702702702702703,\n",
              " 'suited': 0.02702702702702703,\n",
              " 'sunbeams': 0.02702702702702703,\n",
              " 'suppose': 0.02702702702702703,\n",
              " 'surely': 0.02702702702702703,\n",
              " 'surprised': 0.02702702702702703,\n",
              " 'swallowed': 0.02702702702702703,\n",
              " 'sweetly': 0.02702702702702703,\n",
              " 'taking': 0.02702702702702703,\n",
              " 'tender': 0.02702702702702703,\n",
              " 'terrible': 0.02702702702702703,\n",
              " 'thought': 0.10810810810810811,\n",
              " 'thoughts': 0.02702702702702703,\n",
              " 'thrice': 0.02702702702702703,\n",
              " 'time': 0.08108108108108109,\n",
              " 'times': 0.02702702702702703,\n",
              " 'told': 0.02702702702702703,\n",
              " 'took': 0.02702702702702703,\n",
              " 'trees': 0.08108108108108109,\n",
              " 'tried': 0.02702702702702703,\n",
              " 'trough': 0.10810810810810811,\n",
              " 'twice': 0.02702702702702703,\n",
              " 'uneasy': 0.02702702702702703,\n",
              " 'velvet': 0.02702702702702703,\n",
              " 'village': 0.02702702702702703,\n",
              " 'wait': 0.02702702702702703,\n",
              " 'walk': 0.05405405405405406,\n",
              " 'walked': 0.02702702702702703,\n",
              " 'wanted': 0.02702702702702703,\n",
              " 'wants': 0.02702702702702703,\n",
              " 'water': 0.02702702702702703,\n",
              " 'way': 0.05405405405405406,\n",
              " 'weak': 0.05405405405405406,\n",
              " 'wear': 0.02702702702702703,\n",
              " 'went': 0.21621621621621623,\n",
              " 'wicked': 0.05405405405405406,\n",
              " 'wine': 0.10810810810810811,\n",
              " 'wolf': 0.4864864864864865,\n",
              " 'woman': 0.05405405405405406,\n",
              " 'wood': 0.1891891891891892,\n",
              " 'word': 0.02702702702702703,\n",
              " 'yesterday': 0.02702702702702703,\n",
              " 'young': 0.02702702702702703}"
            ]
          },
          "metadata": {
            "tags": []
          },
          "execution_count": 34
        }
      ]
    },
    {
      "cell_type": "code",
      "metadata": {
        "id": "nxUNTReGoAAu"
      },
      "source": [
        "sentence_tokens=[sent for sent in doc.sents]"
      ],
      "execution_count": 35,
      "outputs": []
    },
    {
      "cell_type": "code",
      "metadata": {
        "colab": {
          "base_uri": "https://localhost:8080/"
        },
        "id": "eT8jXVifoSV2",
        "outputId": "f70c3b01-fed5-4e36-968b-677333890cd5"
      },
      "source": [
        "sentence_tokens"
      ],
      "execution_count": 36,
      "outputs": [
        {
          "output_type": "execute_result",
          "data": {
            "text/plain": [
              "[Once upon a time there was a dear little girl who was loved by every one who looked at her, but most of all by her grandmother, and there was nothing that she would not have given to the child.,\n",
              " Once she gave her a little cap of red velvet, which suited her so well that she would never wear anything else.,\n",
              " So she was always called Little Red Riding Hood.\n",
              " ,\n",
              " One day her mother said to her, \"Come, Little Red Riding Hood, here is a piece of cake and a bottle of wine.,\n",
              " Take them to your grandmother, she is ill and weak, and they will do her good.,\n",
              " Set out before it gets hot, and when you are going, walk nicely and quietly and do not run off the path, or you may fall and break the bottle, and then your grandmother will get nothing.,\n",
              " And when you go into her room, don't forget to say, good-morning, and don't peep into every corner before you do it.\"\n",
              " ,\n",
              " I will take great care, said Little Red Riding Hood to her mother, and gave her hand on it.\n",
              " ,\n",
              " The grandmother lived out in the wood, half a league from the village, and just as Little Red Riding Hood entered the wood, a wolf met her.,\n",
              " Little Red Riding Hood did not know what a wicked creature he was, and was not at all afraid of him.\n",
              " ,\n",
              " \"Good-day, Little Red Riding Hood,\" said he.\n",
              " ,\n",
              " \"Thank you kindly, wolf.\"\n",
              " ,\n",
              " \"Whither away so early, Little Red Riding Hood?\"\n",
              " ,\n",
              " \"To my grandmother's.\"\n",
              " ,\n",
              " \"What have you got in your apron?\"\n",
              " ,\n",
              " \"Cake and wine.,\n",
              " Yesterday was baking-day, so poor sick grandmother is to have something good, to make her stronger.\"\n",
              " ,\n",
              " \"Where does your grandmother live, Little Red Riding Hood?\"\n",
              " ,\n",
              " \"A good quarter of a league farther on in the wood.,\n",
              " Her house stands under the three large oak-trees, the nut-trees are just below.,\n",
              " You surely must know it,\" replied Little Red Riding Hood.\n",
              " ,\n",
              " The wolf thought to himself, \"What a tender young creature.,\n",
              " What a nice plump mouthful, she will be better to eat than the old woman.,\n",
              " I must act craftily, so as to catch both.,\n",
              " \",\n",
              " So he walked for a short time by the side of Little Red Riding Hood, and then he said, \"see Little Red Riding Hood, how pretty the flowers are about here.,\n",
              " Why do you not look round.,\n",
              " I believe, too, that you do not hear how sweetly the little birds are singing.,\n",
              " You walk gravely along as if you were going to school, while everything else out here in the wood is merry.\"\n",
              " ,\n",
              " Little Red Riding Hood raised her eyes, and when she saw the sunbeams dancing here and there through the trees, and pretty flowers growing everywhere, she thought, suppose I take grandmother a fresh nosegay.,\n",
              " That would please her too.,\n",
              " It is so early in the day that I shall still get there in good time.,\n",
              " And so she ran from the path into the wood to look for flowers.,\n",
              " And whenever she had picked one, she fancied that she saw a still prettier one farther on, and ran after it, and so got deeper and deeper into the wood.\n",
              " ,\n",
              " Meanwhile the wolf ran straight to the grandmother's house and knocked at the door.\n",
              " ,\n",
              " \"Who is there?\"\n",
              " ,\n",
              " \"Little Red Riding Hood,\" replied the wolf.,\n",
              " \"She is bringing cake and wine.,\n",
              " Open the door.\"\n",
              " ,\n",
              " \"Lift the latch,\" called out the grandmother, \"I am too weak, and cannot get up.\"\n",
              " ,\n",
              " The wolf lifted the latch, the door sprang open, and without saying a word he went straight to the grandmother's bed, and devoured her.,\n",
              " Then he put on her clothes, dressed himself in her cap, laid himself in bed and drew the curtains.\n",
              " ,\n",
              " Little Red Riding Hood, however, had been running about picking flowers, and when she had gathered so many that she could carry no more, she remembered her grandmother, and set out on the way to her.\n",
              " ,\n",
              " She was surprised to find the cottage-door standing open, and when she went into the room, she had such a strange feeling that she said to herself,,\n",
              " oh dear,\n",
              " , how uneasy I feel to-day, and at other times I like being with grandmother so much.\n",
              "  ,\n",
              " She called out, \"Good morning,\" but received no answer.,\n",
              " So she went to the bed and drew back the curtains.,\n",
              " There lay her grandmother with her cap pulled far over her face, and looking very strange.\n",
              " ,\n",
              " \"Oh, grandmother,\" she said, \"what big ears you have.\"\n",
              " ,\n",
              " \"The better to hear you with, my child,\" was the reply.\n",
              " ,\n",
              " \"But, grandmother, what big eyes you have,\" she said.\n",
              " ,\n",
              " \"The better to see you with, my dear.\"\n",
              " ,\n",
              " \"But, grandmother, what large hands you have.\"\n",
              " ,\n",
              " \"The better to hug you with.\"\n",
              " ,\n",
              " \",\n",
              " Oh, but, grandmother, what a terrible big mouth you have.\"\n",
              " ,\n",
              " \"The better to eat you with.\"\n",
              " ,\n",
              " And scarcely had the wolf said this, than with one bound he was out of bed and swallowed up Little Red Riding Hood.\n",
              " ,\n",
              " When the wolf had appeased his appetite, he lay down again in the bed, fell asleep and began to snore very loud.,\n",
              " The huntsman was just passing the house, and thought to himself, how the old woman is snoring.,\n",
              " I must just see if she wants anything.\n",
              " ,\n",
              " So he went into the room, and when he came to the bed, he saw that the wolf was lying in it.,\n",
              " \",\n",
              " Do I find you here, you old sinner,\" said he.,\n",
              " \"I have long sought you.\"\n",
              " ,\n",
              " Then just as he was going to fire at him, it occurred to him that the wolf might have devoured the grandmother, and that she might still be saved, so he did not fire, but took a pair of scissors, and began to cut open the stomach of the sleeping wolf.\n",
              " ,\n",
              " When he had made two snips, he saw the Little Red Riding Hood shining, and then he made two snips more, and the little girl sprang out, crying, \"Ah, how frightened I have been.,\n",
              " How dark it was inside the wolf.\"\n",
              " ,\n",
              " And after that the aged grandmother came out alive also, but scarcely able to breathe.,\n",
              " Little Red Riding Hood, however, quickly fetched great stones with which they filled the wolf's belly, and when he awoke, he wanted to run away, but the stones were so heavy that he collapsed at once, and fell dead.\n",
              "  ,\n",
              " Then all three were delighted.,\n",
              " The huntsman drew off the wolf's skin and went home with it.,\n",
              " The grandmother ate the cake and drank the wine which Little Red Riding Hood had brought, and revived, but Little Red Riding Hood thought to herself, as long as I live, I will never by myself leave the path, to run into the wood, when my mother has forbidden me to do so.\n",
              " ,\n",
              " It is also related that once when Little Red Riding Hood was again taking cakes to the old grandmother, another wolf spoke to her, and tried to entice her from the path.,\n",
              " Little Red Riding Hood, however, was on her guard, and went straight forward on her way, and told her grandmother that she had met the wolf, and that he had said good-morning to her, but with such a wicked look in his eyes, that if they had not been on the public road,\n",
              " she was certain he would have eaten her up.,\n",
              " \",\n",
              " Well,\" said the grandmother, \"we will shut the door, that he may not come in.\"\n",
              " ,\n",
              " Soon afterwards the wolf knocked, and cried, \"open the door, grandmother, I am Little Red Riding Hood, and am bringing you some cakes.\"\n",
              " ,\n",
              " But they did not speak, or open the door, so the grey-beard stole twice or thrice round the house, and at last jumped on the roof, intending to wait until Little Red Riding Hood went home in the evening, and then to steal after her and devour her in the darkness.,\n",
              " But the grandmother saw what was in his thoughts.,\n",
              " In front of the house was a great stone trough, so she said to the child, take the pail, Little Red Riding Hood.,\n",
              " I made some sausages yesterday, so carry the water in which I boiled them to the trough.,\n",
              " Little Red Riding Hood carried until the great trough was quite full.,\n",
              " Then the smell of the sausages reached the wolf, and he sniffed and peeped down, and at last stretched out his neck so far that he could no longer keep his footing and began to slip, and slipped down from the roof straight into the great trough, and was drowned.,\n",
              " But Little Red Riding Hood went joyously home, and no one ever did anything to harm her again.]"
            ]
          },
          "metadata": {
            "tags": []
          },
          "execution_count": 36
        }
      ]
    },
    {
      "cell_type": "code",
      "metadata": {
        "id": "oO-Zc03DoT9Z"
      },
      "source": [
        "sentence_scores= {}\r\n",
        "for sent in sentence_tokens:\r\n",
        "  for word in sent:\r\n",
        "    if word.text.lower() in word_frequencies.keys():\r\n",
        "      if sent not in sentence_scores.keys():\r\n",
        "        sentence_scores[sent] =word_frequencies[word.text.lower()]\r\n",
        "      else:\r\n",
        "        sentence_scores[sent] +=word_frequencies[word.text.lower()]"
      ],
      "execution_count": 37,
      "outputs": []
    },
    {
      "cell_type": "code",
      "metadata": {
        "id": "_D8mp4kppKcc"
      },
      "source": [
        ""
      ],
      "execution_count": null,
      "outputs": []
    },
    {
      "cell_type": "code",
      "metadata": {
        "colab": {
          "base_uri": "https://localhost:8080/"
        },
        "id": "-03qAkYnpHm2",
        "outputId": "0a394dab-01e1-408c-af24-85b4d9657c3f"
      },
      "source": [
        "sentence_scores"
      ],
      "execution_count": 38,
      "outputs": [
        {
          "output_type": "execute_result",
          "data": {
            "text/plain": [
              "{Once upon a time there was a dear little girl who was loved by every one who looked at her, but most of all by her grandmother, and there was nothing that she would not have given to the child.: 1.1891891891891893,\n",
              " Once she gave her a little cap of red velvet, which suited her so well that she would never wear anything else.: 0.35135135135135137,\n",
              " So she was always called Little Red Riding Hood.\n",
              " : 1.2162162162162162,\n",
              " One day her mother said to her, \"Come, Little Red Riding Hood, here is a piece of cake and a bottle of wine.: 0.9729729729729729,\n",
              " Take them to your grandmother, she is ill and weak, and they will do her good.: 0.945945945945946,\n",
              " Set out before it gets hot, and when you are going, walk nicely and quietly and do not run off the path, or you may fall and break the bottle, and then your grandmother will get nothing.: 1.2702702702702704,\n",
              " And when you go into her room, don't forget to say, good-morning, and don't peep into every corner before you do it.\"\n",
              " : 1.4054054054054055,\n",
              " I will take great care, said Little Red Riding Hood to her mother, and gave her hand on it.\n",
              " : 1.783783783783784,\n",
              " The grandmother lived out in the wood, half a league from the village, and just as Little Red Riding Hood entered the wood, a wolf met her.: 1.9189189189189189,\n",
              " Little Red Riding Hood did not know what a wicked creature he was, and was not at all afraid of him.\n",
              " : 1.3243243243243243,\n",
              " \"Good-day, Little Red Riding Hood,\" said he.\n",
              " : 1.7567567567567568,\n",
              " \"Thank you kindly, wolf.\"\n",
              " : 1.5135135135135136,\n",
              " \"Whither away so early, Little Red Riding Hood?\"\n",
              " : 1.2432432432432432,\n",
              " \"To my grandmother's.\"\n",
              " : 1.7027027027027026,\n",
              " \"What have you got in your apron?\"\n",
              " : 1.0810810810810811,\n",
              " \"Cake and wine.: 0.1891891891891892,\n",
              " Yesterday was baking-day, so poor sick grandmother is to have something good, to make her stronger.\"\n",
              " : 2.135135135135135,\n",
              " \"Where does your grandmother live, Little Red Riding Hood?\"\n",
              " : 1.8918918918918919,\n",
              " \"A good quarter of a league farther on in the wood.: 0.4864864864864865,\n",
              " Her house stands under the three large oak-trees, the nut-trees are just below.: 0.43243243243243246,\n",
              " You surely must know it,\" replied Little Red Riding Hood.\n",
              " : 1.2702702702702702,\n",
              " The wolf thought to himself, \"What a tender young creature.: 0.7027027027027027,\n",
              " What a nice plump mouthful, she will be better to eat than the old woman.: 0.43243243243243246,\n",
              " I must act craftily, so as to catch both.: 0.08108108108108109,\n",
              " So he walked for a short time by the side of Little Red Riding Hood, and then he said, \"see Little Red Riding Hood, how pretty the flowers are about here.: 0.891891891891892,\n",
              " Why do you not look round.: 0.13513513513513514,\n",
              " I believe, too, that you do not hear how sweetly the little birds are singing.: 0.2702702702702703,\n",
              " You walk gravely along as if you were going to school, while everything else out here in the wood is merry.\"\n",
              " : 1.4054054054054055,\n",
              " Little Red Riding Hood raised her eyes, and when she saw the sunbeams dancing here and there through the trees, and pretty flowers growing everywhere, she thought, suppose I take grandmother a fresh nosegay.: 1.5945945945945947,\n",
              " It is so early in the day that I shall still get there in good time.: 0.4594594594594595,\n",
              " And so she ran from the path into the wood to look for flowers.: 0.5675675675675675,\n",
              " And whenever she had picked one, she fancied that she saw a still prettier one farther on, and ran after it, and so got deeper and deeper into the wood.\n",
              " : 1.7027027027027029,\n",
              " Meanwhile the wolf ran straight to the grandmother's house and knocked at the door.\n",
              " : 2.756756756756757,\n",
              " \"Who is there?\"\n",
              " : 1.0,\n",
              " \"Little Red Riding Hood,\" replied the wolf.: 0.6756756756756757,\n",
              " \"She is bringing cake and wine.: 0.24324324324324326,\n",
              " Open the door.\"\n",
              " : 1.3243243243243243,\n",
              " \"Lift the latch,\" called out the grandmother, \"I am too weak, and cannot get up.\"\n",
              " : 1.891891891891892,\n",
              " The wolf lifted the latch, the door sprang open, and without saying a word he went straight to the grandmother's bed, and devoured her.: 2.2432432432432434,\n",
              " Then he put on her clothes, dressed himself in her cap, laid himself in bed and drew the curtains.\n",
              " : 1.4594594594594594,\n",
              " Little Red Riding Hood, however, had been running about picking flowers, and when she had gathered so many that she could carry no more, she remembered her grandmother, and set out on the way to her.\n",
              " : 2.189189189189189,\n",
              " She was surprised to find the cottage-door standing open, and when she went into the room, she had such a strange feeling that she said to herself,: 1.1621621621621623,\n",
              " oh dear: 0.10810810810810811,\n",
              " , how uneasy I feel to-day, and at other times I like being with grandmother so much.\n",
              "  : 1.0,\n",
              " She called out, \"Good morning,\" but received no answer.: 0.3783783783783784,\n",
              " So she went to the bed and drew back the curtains.: 0.5135135135135136,\n",
              " There lay her grandmother with her cap pulled far over her face, and looking very strange.\n",
              " : 2.027027027027027,\n",
              " \"Oh, grandmother,\" she said, \"what big ears you have.\"\n",
              " : 2.1621621621621623,\n",
              " \"The better to hear you with, my child,\" was the reply.\n",
              " : 1.2972972972972974,\n",
              " \"But, grandmother, what big eyes you have,\" she said.\n",
              " : 2.1891891891891895,\n",
              " \"The better to see you with, my dear.\"\n",
              " : 1.2162162162162162,\n",
              " \"But, grandmother, what large hands you have.\"\n",
              " : 1.7837837837837838,\n",
              " \"The better to hug you with.\"\n",
              " : 1.1621621621621623,\n",
              " Oh, but, grandmother, what a terrible big mouth you have.\"\n",
              " : 1.864864864864865,\n",
              " \"The better to eat you with.\"\n",
              " : 1.1891891891891893,\n",
              " And scarcely had the wolf said this, than with one bound he was out of bed and swallowed up Little Red Riding Hood.\n",
              " : 2.216216216216216,\n",
              " When the wolf had appeased his appetite, he lay down again in the bed, fell asleep and began to snore very loud.: 0.972972972972973,\n",
              " The huntsman was just passing the house, and thought to himself, how the old woman is snoring.: 0.5135135135135136,\n",
              " I must just see if she wants anything.\n",
              " : 1.027027027027027,\n",
              " So he went into the room, and when he came to the bed, he saw that the wolf was lying in it.: 1.162162162162162,\n",
              " Do I find you here, you old sinner,\" said he.: 0.5135135135135136,\n",
              " \"I have long sought you.\"\n",
              " : 1.0810810810810811,\n",
              " Then just as he was going to fire at him, it occurred to him that the wolf might have devoured the grandmother, and that she might still be saved, so he did not fire, but took a pair of scissors, and began to cut open the stomach of the sleeping wolf.\n",
              " : 3.351351351351351,\n",
              " When he had made two snips, he saw the Little Red Riding Hood shining, and then he made two snips more, and the little girl sprang out, crying, \"Ah, how frightened I have been.: 0.6756756756756757,\n",
              " How dark it was inside the wolf.\"\n",
              " : 1.5405405405405406,\n",
              " And after that the aged grandmother came out alive also, but scarcely able to breathe.: 0.9189189189189191,\n",
              " Little Red Riding Hood, however, quickly fetched great stones with which they filled the wolf's belly, and when he awoke, he wanted to run away, but the stones were so heavy that he collapsed at once, and fell dead.\n",
              "  : 1.3513513513513509,\n",
              " Then all three were delighted.: 0.02702702702702703,\n",
              " The huntsman drew off the wolf's skin and went home with it.: 0.945945945945946,\n",
              " The grandmother ate the cake and drank the wine which Little Red Riding Hood had brought, and revived, but Little Red Riding Hood thought to herself, as long as I live, I will never by myself leave the path, to run into the wood, when my mother has forbidden me to do so.\n",
              " : 3.0,\n",
              " It is also related that once when Little Red Riding Hood was again taking cakes to the old grandmother, another wolf spoke to her, and tried to entice her from the path.: 1.7297297297297298,\n",
              " Little Red Riding Hood, however, was on her guard, and went straight forward on her way, and told her grandmother that she had met the wolf, and that he had said good-morning to her, but with such a wicked look in his eyes, that if they had not been on the public road: 2.6756756756756763,\n",
              " she was certain he would have eaten her up.: 0.05405405405405406,\n",
              " Well,\" said the grandmother, \"we will shut the door, that he may not come in.\"\n",
              " : 2.27027027027027,\n",
              " Soon afterwards the wolf knocked, and cried, \"open the door, grandmother, I am Little Red Riding Hood, and am bringing you some cakes.\"\n",
              " : 2.8378378378378377,\n",
              " But they did not speak, or open the door, so the grey-beard stole twice or thrice round the house, and at last jumped on the roof, intending to wait until Little Red Riding Hood went home in the evening, and then to steal after her and devour her in the darkness.: 1.351351351351351,\n",
              " But the grandmother saw what was in his thoughts.: 0.8648648648648649,\n",
              " In front of the house was a great stone trough, so she said to the child, take the pail, Little Red Riding Hood.: 0.972972972972973,\n",
              " I made some sausages yesterday, so carry the water in which I boiled them to the trough.: 0.2972972972972973,\n",
              " Little Red Riding Hood carried until the great trough was quite full.: 0.40540540540540543,\n",
              " Then the smell of the sausages reached the wolf, and he sniffed and peeped down, and at last stretched out his neck so far that he could no longer keep his footing and began to slip, and slipped down from the roof straight into the great trough, and was drowned.: 1.378378378378378,\n",
              " But Little Red Riding Hood went joyously home, and no one ever did anything to harm her again.: 0.4864864864864865}"
            ]
          },
          "metadata": {
            "tags": []
          },
          "execution_count": 38
        }
      ]
    },
    {
      "cell_type": "code",
      "metadata": {
        "id": "DkbY-9qHpJYb"
      },
      "source": [
        "from heapq import nlargest"
      ],
      "execution_count": 39,
      "outputs": []
    },
    {
      "cell_type": "code",
      "metadata": {
        "colab": {
          "base_uri": "https://localhost:8080/"
        },
        "id": "PUVjgbyUpWBz",
        "outputId": "f214dafd-1193-4d38-9259-4ecd8af585cd"
      },
      "source": [
        "select_length=int(len(sentence_tokens)*0.3)\r\n",
        "select_length"
      ],
      "execution_count": 40,
      "outputs": [
        {
          "output_type": "execute_result",
          "data": {
            "text/plain": [
              "26"
            ]
          },
          "metadata": {
            "tags": []
          },
          "execution_count": 40
        }
      ]
    },
    {
      "cell_type": "code",
      "metadata": {
        "id": "lyEOXAwopet-"
      },
      "source": [
        "summary=nlargest(select_length,sentence_scores,key=sentence_scores.get)"
      ],
      "execution_count": 41,
      "outputs": []
    },
    {
      "cell_type": "code",
      "metadata": {
        "colab": {
          "base_uri": "https://localhost:8080/"
        },
        "id": "qZkR9vmZpqLT",
        "outputId": "782112b8-e96f-43cb-80f5-db4639fff0f1"
      },
      "source": [
        "summary"
      ],
      "execution_count": 42,
      "outputs": [
        {
          "output_type": "execute_result",
          "data": {
            "text/plain": [
              "[Then just as he was going to fire at him, it occurred to him that the wolf might have devoured the grandmother, and that she might still be saved, so he did not fire, but took a pair of scissors, and began to cut open the stomach of the sleeping wolf.\n",
              " ,\n",
              " The grandmother ate the cake and drank the wine which Little Red Riding Hood had brought, and revived, but Little Red Riding Hood thought to herself, as long as I live, I will never by myself leave the path, to run into the wood, when my mother has forbidden me to do so.\n",
              " ,\n",
              " Soon afterwards the wolf knocked, and cried, \"open the door, grandmother, I am Little Red Riding Hood, and am bringing you some cakes.\"\n",
              " ,\n",
              " Meanwhile the wolf ran straight to the grandmother's house and knocked at the door.\n",
              " ,\n",
              " Little Red Riding Hood, however, was on her guard, and went straight forward on her way, and told her grandmother that she had met the wolf, and that he had said good-morning to her, but with such a wicked look in his eyes, that if they had not been on the public road,\n",
              " Well,\" said the grandmother, \"we will shut the door, that he may not come in.\"\n",
              " ,\n",
              " The wolf lifted the latch, the door sprang open, and without saying a word he went straight to the grandmother's bed, and devoured her.,\n",
              " And scarcely had the wolf said this, than with one bound he was out of bed and swallowed up Little Red Riding Hood.\n",
              " ,\n",
              " \"But, grandmother, what big eyes you have,\" she said.\n",
              " ,\n",
              " Little Red Riding Hood, however, had been running about picking flowers, and when she had gathered so many that she could carry no more, she remembered her grandmother, and set out on the way to her.\n",
              " ,\n",
              " \"Oh, grandmother,\" she said, \"what big ears you have.\"\n",
              " ,\n",
              " Yesterday was baking-day, so poor sick grandmother is to have something good, to make her stronger.\"\n",
              " ,\n",
              " There lay her grandmother with her cap pulled far over her face, and looking very strange.\n",
              " ,\n",
              " The grandmother lived out in the wood, half a league from the village, and just as Little Red Riding Hood entered the wood, a wolf met her.,\n",
              " \"Lift the latch,\" called out the grandmother, \"I am too weak, and cannot get up.\"\n",
              " ,\n",
              " \"Where does your grandmother live, Little Red Riding Hood?\"\n",
              " ,\n",
              " Oh, but, grandmother, what a terrible big mouth you have.\"\n",
              " ,\n",
              " I will take great care, said Little Red Riding Hood to her mother, and gave her hand on it.\n",
              " ,\n",
              " \"But, grandmother, what large hands you have.\"\n",
              " ,\n",
              " \"Good-day, Little Red Riding Hood,\" said he.\n",
              " ,\n",
              " It is also related that once when Little Red Riding Hood was again taking cakes to the old grandmother, another wolf spoke to her, and tried to entice her from the path.,\n",
              " And whenever she had picked one, she fancied that she saw a still prettier one farther on, and ran after it, and so got deeper and deeper into the wood.\n",
              " ,\n",
              " \"To my grandmother's.\"\n",
              " ,\n",
              " Little Red Riding Hood raised her eyes, and when she saw the sunbeams dancing here and there through the trees, and pretty flowers growing everywhere, she thought, suppose I take grandmother a fresh nosegay.,\n",
              " How dark it was inside the wolf.\"\n",
              " ,\n",
              " \"Thank you kindly, wolf.\"\n",
              " ]"
            ]
          },
          "metadata": {
            "tags": []
          },
          "execution_count": 42
        }
      ]
    },
    {
      "cell_type": "code",
      "metadata": {
        "id": "Ikz6Oh_Cpr0o"
      },
      "source": [
        "final_summary=[word.text for word in summary]"
      ],
      "execution_count": 43,
      "outputs": []
    },
    {
      "cell_type": "code",
      "metadata": {
        "id": "wQ2IhxiyrAqi"
      },
      "source": [
        "summary=' '.join(final_summary)"
      ],
      "execution_count": 44,
      "outputs": []
    },
    {
      "cell_type": "code",
      "metadata": {
        "colab": {
          "base_uri": "https://localhost:8080/"
        },
        "id": "-srOJVx7rItJ",
        "outputId": "a4047954-2b71-4207-edac-d310c1f5d2a0"
      },
      "source": [
        "print(summary)"
      ],
      "execution_count": 45,
      "outputs": [
        {
          "output_type": "stream",
          "text": [
            "Then just as he was going to fire at him, it occurred to him that the wolf might have devoured the grandmother, and that she might still be saved, so he did not fire, but took a pair of scissors, and began to cut open the stomach of the sleeping wolf.\n",
            "\n",
            " The grandmother ate the cake and drank the wine which Little Red Riding Hood had brought, and revived, but Little Red Riding Hood thought to herself, as long as I live, I will never by myself leave the path, to run into the wood, when my mother has forbidden me to do so.\n",
            "\n",
            " Soon afterwards the wolf knocked, and cried, \"open the door, grandmother, I am Little Red Riding Hood, and am bringing you some cakes.\"\n",
            "\n",
            " Meanwhile the wolf ran straight to the grandmother's house and knocked at the door.\n",
            "\n",
            " Little Red Riding Hood, however, was on her guard, and went straight forward on her way, and told her grandmother that she had met the wolf, and that he had said good-morning to her, but with such a wicked look in his eyes, that if they had not been on the public road Well,\" said the grandmother, \"we will shut the door, that he may not come in.\"\n",
            "\n",
            " The wolf lifted the latch, the door sprang open, and without saying a word he went straight to the grandmother's bed, and devoured her. And scarcely had the wolf said this, than with one bound he was out of bed and swallowed up Little Red Riding Hood.\n",
            "\n",
            " \"But, grandmother, what big eyes you have,\" she said.\n",
            "\n",
            " Little Red Riding Hood, however, had been running about picking flowers, and when she had gathered so many that she could carry no more, she remembered her grandmother, and set out on the way to her.\n",
            "\n",
            " \"Oh, grandmother,\" she said, \"what big ears you have.\"\n",
            "\n",
            " Yesterday was baking-day, so poor sick grandmother is to have something good, to make her stronger.\"\n",
            "\n",
            " There lay her grandmother with her cap pulled far over her face, and looking very strange.\n",
            "\n",
            " The grandmother lived out in the wood, half a league from the village, and just as Little Red Riding Hood entered the wood, a wolf met her. \"Lift the latch,\" called out the grandmother, \"I am too weak, and cannot get up.\"\n",
            "\n",
            " \"Where does your grandmother live, Little Red Riding Hood?\"\n",
            "\n",
            " Oh, but, grandmother, what a terrible big mouth you have.\"\n",
            "\n",
            " I will take great care, said Little Red Riding Hood to her mother, and gave her hand on it.\n",
            "\n",
            " \"But, grandmother, what large hands you have.\"\n",
            "\n",
            " \"Good-day, Little Red Riding Hood,\" said he.\n",
            "\n",
            " It is also related that once when Little Red Riding Hood was again taking cakes to the old grandmother, another wolf spoke to her, and tried to entice her from the path. And whenever she had picked one, she fancied that she saw a still prettier one farther on, and ran after it, and so got deeper and deeper into the wood.\n",
            "\n",
            " \"To my grandmother's.\"\n",
            "\n",
            " Little Red Riding Hood raised her eyes, and when she saw the sunbeams dancing here and there through the trees, and pretty flowers growing everywhere, she thought, suppose I take grandmother a fresh nosegay. How dark it was inside the wolf.\"\n",
            "\n",
            " \"Thank you kindly, wolf.\"\n",
            "\n",
            "\n"
          ],
          "name": "stdout"
        }
      ]
    },
    {
      "cell_type": "code",
      "metadata": {
        "colab": {
          "base_uri": "https://localhost:8080/"
        },
        "id": "xmQzghXRrMOS",
        "outputId": "de498f27-ffa7-4fd9-b703-b8092fe7fb65"
      },
      "source": [
        "len(text)"
      ],
      "execution_count": 46,
      "outputs": [
        {
          "output_type": "execute_result",
          "data": {
            "text/plain": [
              "7656"
            ]
          },
          "metadata": {
            "tags": []
          },
          "execution_count": 46
        }
      ]
    },
    {
      "cell_type": "code",
      "metadata": {
        "colab": {
          "base_uri": "https://localhost:8080/"
        },
        "id": "QjjfcELorZaG",
        "outputId": "60def601-99fb-44a0-fdb6-e3e2f75956e9"
      },
      "source": [
        "len(summary)"
      ],
      "execution_count": 47,
      "outputs": [
        {
          "output_type": "execute_result",
          "data": {
            "text/plain": [
              "3025"
            ]
          },
          "metadata": {
            "tags": []
          },
          "execution_count": 47
        }
      ]
    },
    {
      "cell_type": "code",
      "metadata": {
        "id": "nzQVirburdTo"
      },
      "source": [
        ""
      ],
      "execution_count": null,
      "outputs": []
    }
  ]
}